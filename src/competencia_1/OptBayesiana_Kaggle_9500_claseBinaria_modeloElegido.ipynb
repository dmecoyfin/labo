{
 "cells": [
  {
   "cell_type": "code",
   "execution_count": 1,
   "id": "402f588d-8130-4f98-9415-c2e059907968",
   "metadata": {},
   "outputs": [
    {
     "name": "stderr",
     "output_type": "stream",
     "text": [
      "Loading required package: data.table\n",
      "\n",
      "Loading required package: rpart\n",
      "\n",
      "Loading required package: rpart.plot\n",
      "\n"
     ]
    }
   ],
   "source": [
    "#Aplicacion de los mejores hiperparametros encontrados en una bayesiana\n",
    "#Utilizando clase_binaria =  [  SI = { \"BAJA+1\", \"BAJA+2\"} ,  NO=\"CONTINUA ]\n",
    "\n",
    "#cargo las librerias que necesito\n",
    "require(\"data.table\")\n",
    "require(\"rpart\")\n",
    "require(\"rpart.plot\")\n",
    "\n",
    "\n",
    "#Aqui se debe poner la carpeta de la materia de SU computadora local\n",
    "setwd(\"C:\\\\Users\\\\jesia\\\\Desktop\\\\4_DMEyF\\\\\")  #Establezco el Working Directory"
   ]
  },
  {
   "cell_type": "code",
   "execution_count": 2,
   "id": "b36eb2ee-74ea-40ac-8560-d83481f01514",
   "metadata": {},
   "outputs": [],
   "source": [
    "#cargo el dataset\n",
    "dataset  <- fread(\"./datasets/competencia1_2022.csv\" )\n",
    "#elimino por data drifting\n",
    "#dataset[,Visa_fultimo_cierre:=NULL]\n",
    "#dataset[,Master_fultimo_cierre:=NULL]"
   ]
  },
  {
   "cell_type": "code",
   "execution_count": 3,
   "id": "abfff2cd-fc95-42bb-a23d-4bba3a4be317",
   "metadata": {},
   "outputs": [
    {
     "data": {
      "text/html": [
       "324242"
      ],
      "text/latex": [
       "324242"
      ],
      "text/markdown": [
       "324242"
      ],
      "text/plain": [
       "[1] 324242"
      ]
     },
     "metadata": {},
     "output_type": "display_data"
    },
    {
     "data": {
      "text/html": [
       "155"
      ],
      "text/latex": [
       "155"
      ],
      "text/markdown": [
       "155"
      ],
      "text/plain": [
       "[1] 155"
      ]
     },
     "metadata": {},
     "output_type": "display_data"
    }
   ],
   "source": [
    "nrow( dataset )\n",
    "ncol( dataset )"
   ]
  },
  {
   "cell_type": "code",
   "execution_count": 4,
   "id": "998a8b4e-6a46-413f-ba43-1d627cd7b94e",
   "metadata": {},
   "outputs": [],
   "source": [
    "\n",
    "\n",
    "#creo la clase_binaria SI={ BAJA+1, BAJA+2 }    NO={ CONTINUA }\n",
    "dataset[ foto_mes==202101, \n",
    "         clase_binaria :=  ifelse( clase_ternaria==\"CONTINUA\", \"NO\", \"SI\" ) ]\n",
    "\n",
    "\n",
    "dtrain  <- dataset[ foto_mes==202101 ]  #defino donde voy a entrenar\n",
    "dapply  <- dataset[ foto_mes==202103 ]  #defino donde voy a aplicar el modelo\n",
    "\n",
    "\n"
   ]
  },
  {
   "cell_type": "code",
   "execution_count": 5,
   "id": "85e71a3d-7675-4c3f-9a06-9371326b6ca3",
   "metadata": {},
   "outputs": [
    {
     "data": {
      "text/html": [
       "<table class=\"dataframe\">\n",
       "<caption>A data.frame: 20 × 1</caption>\n",
       "<thead>\n",
       "\t<tr><th></th><th scope=col>modelo$variable.importance</th></tr>\n",
       "\t<tr><th></th><th scope=col>&lt;dbl&gt;</th></tr>\n",
       "</thead>\n",
       "<tbody>\n",
       "\t<tr><th scope=row>ctrx_quarter</th><td>119.043268</td></tr>\n",
       "\t<tr><th scope=row>mcuentas_saldo</th><td> 43.445362</td></tr>\n",
       "\t<tr><th scope=row>cdescubierto_preacordado</th><td> 38.446236</td></tr>\n",
       "\t<tr><th scope=row>active_quarter</th><td> 30.642834</td></tr>\n",
       "\t<tr><th scope=row>mcuenta_corriente</th><td> 30.054549</td></tr>\n",
       "\t<tr><th scope=row>cprestamos_personales</th><td> 29.981218</td></tr>\n",
       "\t<tr><th scope=row>mprestamos_personales</th><td> 29.227296</td></tr>\n",
       "\t<tr><th scope=row>mcaja_ahorro</th><td> 27.508217</td></tr>\n",
       "\t<tr><th scope=row>ccomisiones_otras</th><td> 21.560275</td></tr>\n",
       "\t<tr><th scope=row>mactivos_margen</th><td> 20.738121</td></tr>\n",
       "\t<tr><th scope=row>mpasivos_margen</th><td> 20.323345</td></tr>\n",
       "\t<tr><th scope=row>mtarjeta_visa_consumo</th><td> 12.293593</td></tr>\n",
       "\t<tr><th scope=row>cliente_antiguedad</th><td> 10.380284</td></tr>\n",
       "\t<tr><th scope=row>mcomisiones_mantenimiento</th><td> 10.320261</td></tr>\n",
       "\t<tr><th scope=row>mcomisiones</th><td>  9.937690</td></tr>\n",
       "\t<tr><th scope=row>Visa_fechaalta</th><td>  9.870892</td></tr>\n",
       "\t<tr><th scope=row>Visa_msaldopesos</th><td>  9.813967</td></tr>\n",
       "\t<tr><th scope=row>Visa_msaldototal</th><td>  9.812804</td></tr>\n",
       "\t<tr><th scope=row>ctarjeta_visa_transacciones</th><td>  9.388505</td></tr>\n",
       "\t<tr><th scope=row>Visa_Fvencimiento</th><td>  6.485597</td></tr>\n",
       "</tbody>\n",
       "</table>\n"
      ],
      "text/latex": [
       "A data.frame: 20 × 1\n",
       "\\begin{tabular}{r|l}\n",
       "  & modelo\\$variable.importance\\\\\n",
       "  & <dbl>\\\\\n",
       "\\hline\n",
       "\tctrx\\_quarter & 119.043268\\\\\n",
       "\tmcuentas\\_saldo &  43.445362\\\\\n",
       "\tcdescubierto\\_preacordado &  38.446236\\\\\n",
       "\tactive\\_quarter &  30.642834\\\\\n",
       "\tmcuenta\\_corriente &  30.054549\\\\\n",
       "\tcprestamos\\_personales &  29.981218\\\\\n",
       "\tmprestamos\\_personales &  29.227296\\\\\n",
       "\tmcaja\\_ahorro &  27.508217\\\\\n",
       "\tccomisiones\\_otras &  21.560275\\\\\n",
       "\tmactivos\\_margen &  20.738121\\\\\n",
       "\tmpasivos\\_margen &  20.323345\\\\\n",
       "\tmtarjeta\\_visa\\_consumo &  12.293593\\\\\n",
       "\tcliente\\_antiguedad &  10.380284\\\\\n",
       "\tmcomisiones\\_mantenimiento &  10.320261\\\\\n",
       "\tmcomisiones &   9.937690\\\\\n",
       "\tVisa\\_fechaalta &   9.870892\\\\\n",
       "\tVisa\\_msaldopesos &   9.813967\\\\\n",
       "\tVisa\\_msaldototal &   9.812804\\\\\n",
       "\tctarjeta\\_visa\\_transacciones &   9.388505\\\\\n",
       "\tVisa\\_Fvencimiento &   6.485597\\\\\n",
       "\\end{tabular}\n"
      ],
      "text/markdown": [
       "\n",
       "A data.frame: 20 × 1\n",
       "\n",
       "| <!--/--> | modelo$variable.importance &lt;dbl&gt; |\n",
       "|---|---|\n",
       "| ctrx_quarter | 119.043268 |\n",
       "| mcuentas_saldo |  43.445362 |\n",
       "| cdescubierto_preacordado |  38.446236 |\n",
       "| active_quarter |  30.642834 |\n",
       "| mcuenta_corriente |  30.054549 |\n",
       "| cprestamos_personales |  29.981218 |\n",
       "| mprestamos_personales |  29.227296 |\n",
       "| mcaja_ahorro |  27.508217 |\n",
       "| ccomisiones_otras |  21.560275 |\n",
       "| mactivos_margen |  20.738121 |\n",
       "| mpasivos_margen |  20.323345 |\n",
       "| mtarjeta_visa_consumo |  12.293593 |\n",
       "| cliente_antiguedad |  10.380284 |\n",
       "| mcomisiones_mantenimiento |  10.320261 |\n",
       "| mcomisiones |   9.937690 |\n",
       "| Visa_fechaalta |   9.870892 |\n",
       "| Visa_msaldopesos |   9.813967 |\n",
       "| Visa_msaldototal |   9.812804 |\n",
       "| ctarjeta_visa_transacciones |   9.388505 |\n",
       "| Visa_Fvencimiento |   6.485597 |\n",
       "\n"
      ],
      "text/plain": [
       "                            modelo$variable.importance\n",
       "ctrx_quarter                119.043268                \n",
       "mcuentas_saldo               43.445362                \n",
       "cdescubierto_preacordado     38.446236                \n",
       "active_quarter               30.642834                \n",
       "mcuenta_corriente            30.054549                \n",
       "cprestamos_personales        29.981218                \n",
       "mprestamos_personales        29.227296                \n",
       "mcaja_ahorro                 27.508217                \n",
       "ccomisiones_otras            21.560275                \n",
       "mactivos_margen              20.738121                \n",
       "mpasivos_margen              20.323345                \n",
       "mtarjeta_visa_consumo        12.293593                \n",
       "cliente_antiguedad           10.380284                \n",
       "mcomisiones_mantenimiento    10.320261                \n",
       "mcomisiones                   9.937690                \n",
       "Visa_fechaalta                9.870892                \n",
       "Visa_msaldopesos              9.813967                \n",
       "Visa_msaldototal              9.812804                \n",
       "ctarjeta_visa_transacciones   9.388505                \n",
       "Visa_Fvencimiento             6.485597                "
      ]
     },
     "metadata": {},
     "output_type": "display_data"
    }
   ],
   "source": [
    "# Entreno el modelo\n",
    "# obviamente rpart no puede ve  clase_ternaria para predecir  clase_binaria\n",
    "#  #no utilizo Visa_mpagado ni  mcomisiones_mantenimiento por drifting\n",
    "\n",
    "modelo  <- rpart(formula=   \"clase_binaria ~ . -clase_ternaria\",\n",
    "                 data=      dtrain,  #los datos donde voy a entrenar\n",
    "                 xval=         0,\n",
    "                 cp= -0.528,\n",
    "                 minsplit=  1000, #ajuste manual de minsplit. \n",
    "                 minbucket=  264,   \n",
    "                 maxdepth=     10 ) #ajuste manual de maxdepth. \n",
    "\n",
    "#Lo mejor que obtuve por opt bayesiana fue: cp=-0.13717, min_split=1683, min_bucket=264, max_depth=18\n",
    "feature_imp <- head(as.data.frame(modelo$variable.importance), 20)\n",
    "feature_imp\n"
   ]
  },
  {
   "cell_type": "code",
   "execution_count": 28,
   "id": "bdc5e5cc-d8b4-4a3d-a497-79fb55e13ec0",
   "metadata": {},
   "outputs": [],
   "source": [
    "#----------------------------------------------------------------------------\n",
    "# habilitar esta seccion si el Fiscal General  Alejandro Bolaños  lo autoriza\n",
    "#----------------------------------------------------------------------------\n",
    "\n",
    "# corrijo manualmente el drifting de  Visa_fultimo_cierre\n",
    "dapply[ Visa_fultimo_cierre== 1, Visa_fultimo_cierre :=  4 ]\n",
    "dapply[ Visa_fultimo_cierre== 7, Visa_fultimo_cierre := 11 ]\n",
    "dapply[ Visa_fultimo_cierre==21, Visa_fultimo_cierre := 25 ]\n",
    "dapply[ Visa_fultimo_cierre==14, Visa_fultimo_cierre := 18 ]\n",
    "dapply[ Visa_fultimo_cierre==28, Visa_fultimo_cierre := 32 ]\n",
    "dapply[ Visa_fultimo_cierre==35, Visa_fultimo_cierre := 39 ]\n",
    "dapply[ Visa_fultimo_cierre> 39, Visa_fultimo_cierre := Visa_fultimo_cierre + 4 ]\n",
    "\n",
    "# corrijo manualmente el drifting de  Visa_fultimo_cierre\n",
    "dapply[ Master_fultimo_cierre== 1, Master_fultimo_cierre :=  4 ]\n",
    "dapply[ Master_fultimo_cierre== 7, Master_fultimo_cierre := 11 ]\n",
    "dapply[ Master_fultimo_cierre==21, Master_fultimo_cierre := 25 ]\n",
    "dapply[ Master_fultimo_cierre==14, Master_fultimo_cierre := 18 ]\n",
    "dapply[ Master_fultimo_cierre==28, Master_fultimo_cierre := 32 ]\n",
    "dapply[ Master_fultimo_cierre==35, Master_fultimo_cierre := 39 ]\n",
    "dapply[ Master_fultimo_cierre> 39, Master_fultimo_cierre := Master_fultimo_cierre + 4 ]\n"
   ]
  },
  {
   "cell_type": "code",
   "execution_count": 29,
   "id": "633c44c1-d7b2-4ae6-8af4-106132f14008",
   "metadata": {},
   "outputs": [],
   "source": [
    "#aplico el modelo a los datos nuevos\n",
    "prediccion  <- predict( object=  modelo,\n",
    "                        newdata= dapply,\n",
    "                        type = \"prob\")\n",
    "\n",
    "#prediccion es una matriz con DOS columnas, llamadas \"NO\", \"SI\"\n",
    "#cada columna es el vector de probabilidades \n",
    "\n"
   ]
  },
  {
   "cell_type": "code",
   "execution_count": 30,
   "id": "bec563b1-da32-4400-9cc2-f3e3ccc3d268",
   "metadata": {},
   "outputs": [],
   "source": [
    "#agrego a dapply una columna nueva que es la probabilidad de BAJA+2\n",
    "dfinal  <- copy( dapply[ , list(numero_de_cliente) ] )\n",
    "dfinal[ , prob_SI := prediccion[ , \"SI\"] ]\n",
    "\n",
    "\n",
    "# por favor cambiar por una semilla propia\n",
    "# que sino el Fiscal General va a impugnar la prediccion\n",
    "set.seed(124739)  \n",
    "dfinal[ , azar := runif( nrow(dapply) ) ]\n",
    "\n",
    "# ordeno en forma descentente, y cuando coincide la probabilidad, al azar\n",
    "setorder( dfinal, -prob_SI, azar )\n",
    "\n",
    "\n"
   ]
  },
  {
   "cell_type": "code",
   "execution_count": 32,
   "id": "63ad316d-5951-452a-9a3e-d2fd85e08422",
   "metadata": {},
   "outputs": [
    {
     "name": "stderr",
     "output_type": "stream",
     "text": [
      "Warning message in dir.create(\"./exp/\"):\n",
      "\"'.\\exp' already exists\"\n",
      "Warning message in dir.create(\"./exp/resignacion_v2\"):\n",
      "\"'.\\exp\\resignacion_v2' already exists\"\n"
     ]
    }
   ],
   "source": [
    "dir.create( \"./exp/\" )\n",
    "dir.create( \"./exp/competencia_1\" )\n",
    "\n",
    "\n",
    "for( corte  in  c( 7500, 8000, 8500, 9000, 9500, 10000, 10500, 11000 ) )\n",
    "{\n",
    "  #le envio a los  corte  mejores,  de mayor probabilidad de prob_SI\n",
    "  dfinal[ , Predicted := 0L ]\n",
    "  dfinal[ 1:corte , Predicted := 1L ]\n",
    "\n",
    "\n",
    "  fwrite( dfinal[ , list(numero_de_cliente, Predicted) ], #solo los campos para Kaggle\n",
    "           file= paste0( \"./exp/competencia_1/v5_ob\",  corte, \".csv\"),\n",
    "           sep=  \",\" )\n",
    "}"
   ]
  },
  {
   "cell_type": "code",
   "execution_count": null,
   "id": "874f04bd-4432-4ca5-bcd5-780b3ee16c22",
   "metadata": {},
   "outputs": [],
   "source": [
    "v1- original\n",
    "v2 - descomentando\n",
    "v3- modif de original x mis hiperparam\n",
    "v4- con hip modificados a mano "
   ]
  }
 ],
 "metadata": {
  "kernelspec": {
   "display_name": "R",
   "language": "R",
   "name": "ir"
  },
  "language_info": {
   "codemirror_mode": "r",
   "file_extension": ".r",
   "mimetype": "text/x-r-source",
   "name": "R",
   "pygments_lexer": "r",
   "version": "4.2.1"
  }
 },
 "nbformat": 4,
 "nbformat_minor": 5
}
