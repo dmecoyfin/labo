{
 "cells": [
  {
   "cell_type": "code",
   "execution_count": 9,
   "id": "cfcc4da2-d306-4950-9866-8c5164ea0413",
   "metadata": {},
   "outputs": [
    {
     "data": {
      "text/html": [
       "<table class=\"dataframe\">\n",
       "<caption>A matrix: 2 × 6 of type dbl</caption>\n",
       "<thead>\n",
       "\t<tr><th></th><th scope=col>used</th><th scope=col>(Mb)</th><th scope=col>gc trigger</th><th scope=col>(Mb)</th><th scope=col>max used</th><th scope=col>(Mb)</th></tr>\n",
       "</thead>\n",
       "<tbody>\n",
       "\t<tr><th scope=row>Ncells</th><td>2121198</td><td>113.3</td><td> 4348665</td><td>232.3</td><td> 2597854</td><td>138.8</td></tr>\n",
       "\t<tr><th scope=row>Vcells</th><td>3564931</td><td> 27.2</td><td>28968204</td><td>221.1</td><td>70619090</td><td>538.8</td></tr>\n",
       "</tbody>\n",
       "</table>\n"
      ],
      "text/latex": [
       "A matrix: 2 × 6 of type dbl\n",
       "\\begin{tabular}{r|llllll}\n",
       "  & used & (Mb) & gc trigger & (Mb) & max used & (Mb)\\\\\n",
       "\\hline\n",
       "\tNcells & 2121198 & 113.3 &  4348665 & 232.3 &  2597854 & 138.8\\\\\n",
       "\tVcells & 3564931 &  27.2 & 28968204 & 221.1 & 70619090 & 538.8\\\\\n",
       "\\end{tabular}\n"
      ],
      "text/markdown": [
       "\n",
       "A matrix: 2 × 6 of type dbl\n",
       "\n",
       "| <!--/--> | used | (Mb) | gc trigger | (Mb) | max used | (Mb) |\n",
       "|---|---|---|---|---|---|---|\n",
       "| Ncells | 2121198 | 113.3 |  4348665 | 232.3 |  2597854 | 138.8 |\n",
       "| Vcells | 3564931 |  27.2 | 28968204 | 221.1 | 70619090 | 538.8 |\n",
       "\n"
      ],
      "text/plain": [
       "       used    (Mb)  gc trigger (Mb)  max used (Mb) \n",
       "Ncells 2121198 113.3  4348665   232.3  2597854 138.8\n",
       "Vcells 3564931  27.2 28968204   221.1 70619090 538.8"
      ]
     },
     "metadata": {},
     "output_type": "display_data"
    }
   ],
   "source": [
    "#Optimizacion Bayesiana de hiperparametros de  rpart\n",
    "\n",
    "#limpio la memoria\n",
    "rm( list=ls() )  #remove all objects\n",
    "gc()             #garbage collection\n",
    "\n",
    "require(\"data.table\")\n",
    "require(\"rlist\")\n",
    "\n",
    "require(\"rpart\")\n",
    "require(\"parallel\")\n",
    "\n",
    "#paquetes necesarios para la Bayesian Optimization\n",
    "require(\"DiceKriging\")\n",
    "require(\"mlrMBO\")\n"
   ]
  },
  {
   "cell_type": "code",
   "execution_count": 10,
   "id": "20cdec91-8d6e-43f0-ad9b-809b3d444300",
   "metadata": {},
   "outputs": [],
   "source": [
    "#Defino la  Optimizacion Bayesiana\n",
    "\n",
    "kBO_iter  <- 100   #cantidad de iteraciones de la Optimizacion Bayesiana\n",
    "\n",
    "hs  <- makeParamSet(\n",
    "          makeNumericParam(\"cp\"       , lower= -1   , upper=    0.1),\n",
    "          makeIntegerParam(\"minsplit\" , lower=  1L  , upper= 8000L),  #la letra L al final significa ENTERO\n",
    "          makeIntegerParam(\"minbucket\", lower=  1L  , upper= 4000L),\n",
    "          makeIntegerParam(\"maxdepth\" , lower=  3L  , upper=   20L),\n",
    "          forbidden = quote( minbucket > 0.5*minsplit ) )             # minbuket NO PUEDE ser mayor que la mitad de minsplit\n",
    "\n",
    "ksemilla_azar  <- 124739   #cambiar por la primer semilla"
   ]
  },
  {
   "cell_type": "code",
   "execution_count": 11,
   "id": "f3c0dff1-4f2f-476d-aacc-9f0c2da5cc27",
   "metadata": {},
   "outputs": [],
   "source": [
    "#graba a un archivo los componentes de lista\n",
    "#para el primer registro, escribe antes los titulos\n",
    "\n",
    "loguear  <- function( reg, arch=NA, folder=\"./work/\", ext=\".txt\", verbose=TRUE )\n",
    "{\n",
    "  archivo  <- arch\n",
    "  if( is.na(arch) )  archivo  <- paste0( folder, substitute( reg), ext )\n",
    "\n",
    "  if( !file.exists( archivo ) )  #Escribo los titulos\n",
    "  {\n",
    "    linea  <- paste0( \"fecha\\t\", \n",
    "                      paste( list.names(reg), collapse=\"\\t\" ), \"\\n\" )\n",
    "\n",
    "    cat( linea, file=archivo )\n",
    "  }\n",
    "\n",
    "  linea  <- paste0( format(Sys.time(), \"%Y%m%d %H%M%S\"),  \"\\t\",     #la fecha y hora\n",
    "                    gsub( \", \", \"\\t\", toString( reg ) ),  \"\\n\" )\n",
    "\n",
    "  cat( linea, file=archivo, append=TRUE )  #grabo al archivo\n",
    "\n",
    "  if( verbose )  cat( linea )   #imprimo por pantalla\n",
    "}"
   ]
  },
  {
   "cell_type": "code",
   "execution_count": 12,
   "id": "d40a5f71-7556-4920-b8e1-ad6310a42291",
   "metadata": {},
   "outputs": [],
   "source": [
    "#particionar agrega una columna llamada fold a un dataset que consiste en una particion estratificada segun agrupa\n",
    "# particionar( data=dataset, division=c(70,30), agrupa=clase_ternaria, seed=semilla)   crea una particion 70, 30 \n",
    "# particionar( data=dataset, division=c(1,1,1,1,1), agrupa=clase_ternaria, seed=semilla)   divide el dataset en 5 particiones\n",
    "\n",
    "particionar  <- function( data, division, agrupa=\"\", campo=\"fold\", start=1, seed=NA )\n",
    "{\n",
    "  if( !is.na( seed)  )   set.seed( seed )\n",
    "\n",
    "  bloque  <- unlist( mapply(  function(x,y) { rep( y, x ) }, division, seq( from=start, length.out=length(division) )  ) )\n",
    "\n",
    "  data[ , (campo) :=  sample( rep( bloque, ceiling(.N/length(bloque))) )[1:.N],\n",
    "           by= agrupa ]\n",
    "}"
   ]
  },
  {
   "cell_type": "code",
   "execution_count": 13,
   "id": "2ff0f5f3-b9cf-4eda-ba0f-e4d1a0176b3b",
   "metadata": {},
   "outputs": [],
   "source": [
    "#fold_test  tiene el numero de fold que voy a usar para testear, entreno en el resto de los folds\n",
    "#param tiene los hiperparametros del arbol\n",
    "\n",
    "ArbolSimple  <- function( fold_test, data, param )\n",
    "{\n",
    "  #genero el modelo\n",
    "  modelo  <- rpart(\"clase_ternaria ~ .\", \n",
    "                   data= data[ fold != fold_test, ],  #entreno en todo MENOS el fold_test que uso para testing\n",
    "                   xval= 0,\n",
    "                   control= param )\n",
    "\n",
    "  #aplico el modelo a los datos de testing\n",
    "  prediccion  <- predict( modelo, \n",
    "                          data[ fold==fold_test, ],  #aplico el modelo sobre los datos de testing\n",
    "                          type= \"prob\")   #quiero que me devuelva probabilidades\n",
    "\n",
    "  prob_baja2  <- prediccion[, \"BAJA+2\"]  #esta es la probabilidad de baja\n",
    "\n",
    "  #calculo la ganancia\n",
    "  ganancia_testing  <- data[ fold==fold_test ][ prob_baja2 > 1/40,  \n",
    "                                                sum( ifelse( clase_ternaria==\"BAJA+2\", 78000, -2000 ) )] \n",
    "\n",
    "  return( ganancia_testing )  #esta es la ganancia sobre el fold de testing, NO esta normalizada\n",
    "}"
   ]
  },
  {
   "cell_type": "code",
   "execution_count": 14,
   "id": "8cba121a-cd5d-408f-864a-358a5be09dc0",
   "metadata": {},
   "outputs": [],
   "source": [
    "ArbolesCrossValidation  <- function( data, param, qfolds, pagrupa, semilla )\n",
    "{\n",
    "  divi  <- rep( 1, qfolds )  # generalmente  c(1, 1, 1, 1, 1 )  cinco unos\n",
    "\n",
    "  particionar( data, divi, seed=semilla, agrupa=pagrupa )  #particiono en dataset en folds\n",
    "\n",
    "  ganancias  <- mcmapply( ArbolSimple, \n",
    "                          seq(qfolds), # 1 2 3 4 5\n",
    "                          MoreArgs= list( data, param), \n",
    "                          SIMPLIFY= FALSE,\n",
    "                          mc.cores= 1 )   #se puede subir a qfolds si posee Linux o Mac OS\n",
    "\n",
    "  data[ , fold := NULL ]\n",
    "\n",
    "  #devuelvo la primer ganancia y el promedio\n",
    "  ganancia_promedio  <- mean( unlist( ganancias ) )   #promedio las ganancias\n",
    "  ganancia_promedio_normalizada  <- ganancia_promedio * qfolds  #aqui normalizo la ganancia\n",
    "  \n",
    "  return( ganancia_promedio_normalizada )\n",
    "}"
   ]
  },
  {
   "cell_type": "code",
   "execution_count": 15,
   "id": "38bc651e-4e90-4a4d-8018-4e76797b5650",
   "metadata": {},
   "outputs": [],
   "source": [
    "#esta funcion solo puede recibir los parametros que se estan optimizando\n",
    "#el resto de los parametros, lamentablemente se pasan como variables globales\n",
    "\n",
    "EstimarGanancia  <- function( x )\n",
    "{\n",
    "   GLOBAL_iteracion  <<-  GLOBAL_iteracion + 1\n",
    "\n",
    "   xval_folds  <- 5\n",
    "   ganancia  <- ArbolesCrossValidation( dataset,\n",
    "                                        param= x, #los hiperparametros del arbol\n",
    "                                        qfolds= xval_folds,  #la cantidad de folds\n",
    "                                        pagrupa= \"clase_ternaria\",\n",
    "                                        semilla= ksemilla_azar )\n",
    "\n",
    "   #logueo \n",
    "   xx  <- x\n",
    "   xx$xval_folds  <-  xval_folds\n",
    "   xx$ganancia  <- ganancia\n",
    "   xx$iteracion <- GLOBAL_iteracion\n",
    "   loguear( xx,  arch= archivo_log )\n",
    "\n",
    "   return( ganancia )\n",
    "}"
   ]
  },
  {
   "cell_type": "code",
   "execution_count": 16,
   "id": "23d70397-96b0-4f86-a770-d150e2ba3ae7",
   "metadata": {},
   "outputs": [],
   "source": [
    "#Aqui empieza el programa\n",
    "\n",
    "setwd( \"C:\\\\Users\\\\jesia\\\\Desktop\\\\4_DMEyF\\\\\" )\n",
    "\n",
    "#cargo el dataset\n",
    "dataset  <- fread(\"./datasets/competencia1_2022.csv\")   #donde entreno\n",
    "\n",
    "\n",
    "#creo la carpeta donde va el experimento\n",
    "# HT  representa  Hiperparameter Tuning\n",
    "dir.create( \"./exp/\",  showWarnings = FALSE ) \n",
    "dir.create( \"./exp/HT3210/\", showWarnings = FALSE )\n",
    "setwd(\"./exp/HT3210/\")   #Establezco el Working Directory DEL EXPERIMENTO\n",
    "\n",
    "\n",
    "archivo_log  <- \"HT321.txt\"\n",
    "archivo_BO   <- \"HT321.RDATA\"\n",
    "\n",
    "#leo si ya existe el log, para retomar en caso que se se corte el programa\n",
    "GLOBAL_iteracion  <- 0\n",
    "\n",
    "if( file.exists(archivo_log) )\n",
    "{\n",
    " tabla_log  <- fread( archivo_log )\n",
    " GLOBAL_iteracion  <- nrow( tabla_log )\n",
    "}\n",
    "\n"
   ]
  },
  {
   "cell_type": "code",
   "execution_count": 17,
   "id": "2eb0ff20-dfa2-4146-b9fa-a10737cc47ac",
   "metadata": {},
   "outputs": [
    {
     "name": "stderr",
     "output_type": "stream",
     "text": [
      "Computing y column(s) for design. Not provided.\n",
      "\n"
     ]
    },
    {
     "name": "stdout",
     "output_type": "stream",
     "text": [
      "20220910 195550\t-0.663718881786917\t4402\t1964\t9\t5\t17016000\t1\n",
      "20220910 195651\t-0.854227190825622\t3423\t1666\t19\t5\t17590000\t2\n",
      "20220910 195751\t-0.555623859382467\t6435\t934\t14\t5\t16976000\t3\n",
      "20220910 195841\t-0.049588153474906\t5931\t79\t9\t5\t16576000\t4\n",
      "20220910 195930\t-0.863048658902699\t6996\t3336\t13\t5\t15802000\t5\n",
      "20220910 200003\t-0.435702209998271\t7649\t2699\t4\t5\t16200000\t6\n",
      "20220910 200103\t-0.34933815109689\t5135\t446\t20\t5\t17016000\t7\n",
      "20220910 200139\t-0.738925550576823\t2364\t1053\t5\t5\t17714000\t8\n",
      "20220910 200229\t-0.618308201679611\t7500\t1566\t11\t5\t16228000\t9\n",
      "20220910 200307\t-0.320804992070771\t6753\t1069\t6\t5\t16228000\t10\n",
      "20220910 200403\t-0.254482050295337\t4268\t402\t14\t5\t17266000\t11\n",
      "20220910 200451\t-0.935745532158762\t6945\t2866\t20\t5\t16244000\t12\n",
      "20220910 200533\t-0.54923052824568\t4052\t536\t8\t5\t17266000\t13\n",
      "20220910 200627\t-0.382657586938391\t6316\t1137\t13\t5\t17016000\t14\n",
      "20220910 200702\t-0.189319560083095\t6955\t145\t5\t5\t16142000\t15\n",
      "20220910 200817\t-0.99551648828201\t3075\t99\t19\t5\t16834000\t16\n"
     ]
    },
    {
     "name": "stderr",
     "output_type": "stream",
     "text": [
      "[mbo] 0: cp=-0.664; minsplit=4402; minbucket=1964; maxdepth=9 : y = 1.7e+07 : 48.5 secs : initdesign\n",
      "\n",
      "[mbo] 0: cp=-0.854; minsplit=3423; minbucket=1666; maxdepth=19 : y = 1.76e+07 : 60.8 secs : initdesign\n",
      "\n",
      "[mbo] 0: cp=-0.556; minsplit=6435; minbucket=934; maxdepth=14 : y = 1.7e+07 : 60.3 secs : initdesign\n",
      "\n",
      "[mbo] 0: cp=-0.0496; minsplit=5931; minbucket=79; maxdepth=9 : y = 1.66e+07 : 49.8 secs : initdesign\n",
      "\n",
      "[mbo] 0: cp=-0.863; minsplit=6996; minbucket=3336; maxdepth=13 : y = 1.58e+07 : 49.2 secs : initdesign\n",
      "\n",
      "[mbo] 0: cp=-0.436; minsplit=7649; minbucket=2699; maxdepth=4 : y = 1.62e+07 : 32.6 secs : initdesign\n",
      "\n",
      "[mbo] 0: cp=-0.349; minsplit=5135; minbucket=446; maxdepth=20 : y = 1.7e+07 : 60.5 secs : initdesign\n",
      "\n",
      "[mbo] 0: cp=-0.739; minsplit=2364; minbucket=1053; maxdepth=5 : y = 1.77e+07 : 35.2 secs : initdesign\n",
      "\n",
      "[mbo] 0: cp=-0.618; minsplit=7500; minbucket=1566; maxdepth=11 : y = 1.62e+07 : 50.0 secs : initdesign\n",
      "\n",
      "[mbo] 0: cp=-0.321; minsplit=6753; minbucket=1069; maxdepth=6 : y = 1.62e+07 : 38.0 secs : initdesign\n",
      "\n",
      "[mbo] 0: cp=-0.254; minsplit=4268; minbucket=402; maxdepth=14 : y = 1.73e+07 : 56.3 secs : initdesign\n",
      "\n",
      "[mbo] 0: cp=-0.936; minsplit=6945; minbucket=2866; maxdepth=20 : y = 1.62e+07 : 48.1 secs : initdesign\n",
      "\n",
      "[mbo] 0: cp=-0.549; minsplit=4052; minbucket=536; maxdepth=8 : y = 1.73e+07 : 42.3 secs : initdesign\n",
      "\n",
      "[mbo] 0: cp=-0.383; minsplit=6316; minbucket=1137; maxdepth=13 : y = 1.7e+07 : 53.8 secs : initdesign\n",
      "\n",
      "[mbo] 0: cp=-0.189; minsplit=6955; minbucket=145; maxdepth=5 : y = 1.61e+07 : 35.2 secs : initdesign\n",
      "\n",
      "[mbo] 0: cp=-0.996; minsplit=3075; minbucket=99; maxdepth=19 : y = 1.68e+07 : 74.9 secs : initdesign\n",
      "\n",
      "Saved the current state after iteration 1 in the file HT321.RDATA.\n",
      "\n"
     ]
    },
    {
     "name": "stdout",
     "output_type": "stream",
     "text": [
      "20220910 200915\t-0.458810071812163\t2544\t1231\t13\t5\t17030000\t17\n"
     ]
    },
    {
     "name": "stderr",
     "output_type": "stream",
     "text": [
      "[mbo] 1: cp=-0.459; minsplit=2544; minbucket=1231; maxdepth=13 : y = 1.7e+07 : 55.7 secs : infill_ei\n",
      "\n"
     ]
    },
    {
     "name": "stdout",
     "output_type": "stream",
     "text": [
      "20220910 200948\t-0.999630987476367\t2753\t1121\t3\t5\t15758000\t18\n"
     ]
    },
    {
     "name": "stderr",
     "output_type": "stream",
     "text": [
      "[mbo] 2: cp=-1; minsplit=2753; minbucket=1121; maxdepth=3 : y = 1.58e+07 : 31.0 secs : infill_ei\n",
      "\n"
     ]
    },
    {
     "name": "stdout",
     "output_type": "stream",
     "text": [
      "20220910 201044\t-0.470710640918539\t2275\t1077\t9\t5\t17660000\t19\n"
     ]
    },
    {
     "name": "stderr",
     "output_type": "stream",
     "text": [
      "[mbo] 3: cp=-0.471; minsplit=2275; minbucket=1077; maxdepth=9 : y = 1.77e+07 : 54.2 secs : infill_ei\n",
      "\n"
     ]
    },
    {
     "name": "stdout",
     "output_type": "stream",
     "text": [
      "20220910 201118\t-0.0154411126495246\t2343\t162\t4\t5\t17416000\t20\n"
     ]
    },
    {
     "name": "stderr",
     "output_type": "stream",
     "text": [
      "[mbo] 4: cp=-0.0154; minsplit=2343; minbucket=162; maxdepth=4 : y = 1.74e+07 : 32.1 secs : infill_ei\n",
      "\n"
     ]
    },
    {
     "name": "stdout",
     "output_type": "stream",
     "text": [
      "20220910 201214\t-0.978841686369188\t2338\t900\t12\t5\t18176000\t21\n"
     ]
    },
    {
     "name": "stderr",
     "output_type": "stream",
     "text": [
      "[mbo] 5: cp=-0.979; minsplit=2338; minbucket=900; maxdepth=12 : y = 1.82e+07 : 54.9 secs : infill_ei\n",
      "\n"
     ]
    },
    {
     "name": "stdout",
     "output_type": "stream",
     "text": [
      "20220910 201328\t-0.999783470003832\t2342\t350\t18\t5\t19384000\t22\n"
     ]
    },
    {
     "name": "stderr",
     "output_type": "stream",
     "text": [
      "[mbo] 6: cp=-1; minsplit=2342; minbucket=350; maxdepth=18 : y = 1.94e+07 : 72.2 secs : infill_ei\n",
      "\n"
     ]
    },
    {
     "name": "stdout",
     "output_type": "stream",
     "text": [
      "20220910 201448\t-0.995577201533241\t2316\t195\t20\t5\t19426000\t23\n"
     ]
    },
    {
     "name": "stderr",
     "output_type": "stream",
     "text": [
      "[mbo] 7: cp=-0.996; minsplit=2316; minbucket=195; maxdepth=20 : y = 1.94e+07 : 78.6 secs : infill_ei\n",
      "\n"
     ]
    },
    {
     "name": "stdout",
     "output_type": "stream",
     "text": [
      "20220910 201618\t-0.979267231684634\t2362\t3\t20\t5\t17822000\t24\n"
     ]
    },
    {
     "name": "stderr",
     "output_type": "stream",
     "text": [
      "[mbo] 8: cp=-0.979; minsplit=2362; minbucket=3; maxdepth=20 : y = 1.78e+07 : 88.1 secs : infill_ei\n",
      "\n"
     ]
    },
    {
     "name": "stdout",
     "output_type": "stream",
     "text": [
      "20220910 201734\t-0.963338274589669\t2310\t331\t16\t5\t19490000\t25\n"
     ]
    },
    {
     "name": "stderr",
     "output_type": "stream",
     "text": [
      "[mbo] 9: cp=-0.963; minsplit=2310; minbucket=331; maxdepth=16 : y = 1.95e+07 : 74.3 secs : infill_ei\n",
      "\n"
     ]
    },
    {
     "name": "stdout",
     "output_type": "stream",
     "text": [
      "20220910 201842\t-0.955494812358127\t2288\t271\t20\t5\t19930000\t26\n"
     ]
    },
    {
     "name": "stderr",
     "output_type": "stream",
     "text": [
      "[mbo] 10: cp=-0.955; minsplit=2288; minbucket=271; maxdepth=20 : y = 1.99e+07 : 65.9 secs : infill_ei\n",
      "\n",
      "Saved the current state after iteration 11 in the file HT321.RDATA.\n",
      "\n"
     ]
    },
    {
     "name": "stdout",
     "output_type": "stream",
     "text": [
      "20220910 202009\t-0.865907503939724\t1901\t270\t20\t5\t20146000\t27\n"
     ]
    },
    {
     "name": "stderr",
     "output_type": "stream",
     "text": [
      "[mbo] 11: cp=-0.866; minsplit=1901; minbucket=270; maxdepth=20 : y = 2.01e+07 : 85.9 secs : infill_ei\n",
      "\n"
     ]
    },
    {
     "name": "stdout",
     "output_type": "stream",
     "text": [
      "20220910 202115\t-0.706995179176378\t2079\t271\t20\t5\t19994000\t28\n"
     ]
    },
    {
     "name": "stderr",
     "output_type": "stream",
     "text": [
      "[mbo] 12: cp=-0.707; minsplit=2079; minbucket=271; maxdepth=20 : y = 2e+07 : 64.6 secs : infill_ei\n",
      "\n"
     ]
    },
    {
     "name": "stdout",
     "output_type": "stream",
     "text": [
      "20220910 202224\t-0.866196265148102\t2021\t279\t19\t5\t19886000\t29\n"
     ]
    },
    {
     "name": "stderr",
     "output_type": "stream",
     "text": [
      "[mbo] 13: cp=-0.866; minsplit=2021; minbucket=279; maxdepth=19 : y = 1.99e+07 : 67.3 secs : infill_ei\n",
      "\n"
     ]
    },
    {
     "name": "stdout",
     "output_type": "stream",
     "text": [
      "20220910 202339\t-0.661163080438911\t1835\t292\t20\t5\t20378000\t30\n"
     ]
    },
    {
     "name": "stderr",
     "output_type": "stream",
     "text": [
      "[mbo] 14: cp=-0.661; minsplit=1835; minbucket=292; maxdepth=20 : y = 2.04e+07 : 73.2 secs : infill_ei\n",
      "\n"
     ]
    },
    {
     "name": "stdout",
     "output_type": "stream",
     "text": [
      "20220910 202501\t-0.628449547884521\t1732\t278\t20\t5\t20504000\t31\n"
     ]
    },
    {
     "name": "stderr",
     "output_type": "stream",
     "text": [
      "[mbo] 15: cp=-0.628; minsplit=1732; minbucket=278; maxdepth=20 : y = 2.05e+07 : 80.3 secs : infill_ei\n",
      "\n"
     ]
    },
    {
     "name": "stdout",
     "output_type": "stream",
     "text": [
      "20220910 202609\t-0.714367552673604\t1625\t309\t20\t5\t20626000\t32\n"
     ]
    },
    {
     "name": "stderr",
     "output_type": "stream",
     "text": [
      "[mbo] 16: cp=-0.714; minsplit=1625; minbucket=309; maxdepth=20 : y = 2.06e+07 : 66.0 secs : infill_ei\n",
      "\n"
     ]
    },
    {
     "name": "stdout",
     "output_type": "stream",
     "text": [
      "20220910 202740\t-0.55017985150724\t624\t312\t20\t5\t18938000\t33\n"
     ]
    },
    {
     "name": "stderr",
     "output_type": "stream",
     "text": [
      "[mbo] 17: cp=-0.55; minsplit=624; minbucket=312; maxdepth=20 : y = 1.89e+07 : 89.0 secs : infill_ei\n",
      "\n"
     ]
    },
    {
     "name": "stdout",
     "output_type": "stream",
     "text": [
      "20220910 202847\t-0.391405617374045\t1460\t303\t20\t5\t20438000\t34\n"
     ]
    },
    {
     "name": "stderr",
     "output_type": "stream",
     "text": [
      "[mbo] 18: cp=-0.391; minsplit=1460; minbucket=303; maxdepth=20 : y = 2.04e+07 : 65.1 secs : infill_ei\n",
      "\n",
      "Saved the current state after iteration 19 in the file HT321.RDATA.\n",
      "\n"
     ]
    },
    {
     "name": "stdout",
     "output_type": "stream",
     "text": [
      "20220910 202956\t-0.707299420555359\t1530\t291\t20\t5\t20268000\t35\n"
     ]
    },
    {
     "name": "stderr",
     "output_type": "stream",
     "text": [
      "[mbo] 19: cp=-0.707; minsplit=1530; minbucket=291; maxdepth=20 : y = 2.03e+07 : 67.6 secs : infill_ei\n",
      "\n"
     ]
    },
    {
     "name": "stdout",
     "output_type": "stream",
     "text": [
      "20220910 203101\t-0.423575643417204\t1641\t337\t20\t5\t20084000\t36\n"
     ]
    },
    {
     "name": "stderr",
     "output_type": "stream",
     "text": [
      "[mbo] 20: cp=-0.424; minsplit=1641; minbucket=337; maxdepth=20 : y = 2.01e+07 : 63.3 secs : infill_ei\n",
      "\n"
     ]
    },
    {
     "name": "stdout",
     "output_type": "stream",
     "text": [
      "20220910 203211\t-0.319004699829386\t1254\t305\t20\t5\t20410000\t37\n"
     ]
    },
    {
     "name": "stderr",
     "output_type": "stream",
     "text": [
      "[mbo] 21: cp=-0.319; minsplit=1254; minbucket=305; maxdepth=20 : y = 2.04e+07 : 67.9 secs : infill_ei\n",
      "\n"
     ]
    },
    {
     "name": "stdout",
     "output_type": "stream",
     "text": [
      "20220910 203313\t-0.73819987151544\t1692\t311\t14\t5\t20566000\t38\n"
     ]
    },
    {
     "name": "stderr",
     "output_type": "stream",
     "text": [
      "[mbo] 22: cp=-0.738; minsplit=1692; minbucket=311; maxdepth=14 : y = 2.06e+07 : 60.8 secs : infill_ei\n",
      "\n"
     ]
    },
    {
     "name": "stdout",
     "output_type": "stream",
     "text": [
      "20220910 203420\t-0.751742642951311\t1706\t315\t20\t5\t20400000\t39\n"
     ]
    },
    {
     "name": "stderr",
     "output_type": "stream",
     "text": [
      "[mbo] 23: cp=-0.752; minsplit=1706; minbucket=315; maxdepth=20 : y = 2.04e+07 : 64.7 secs : infill_ei\n",
      "\n"
     ]
    },
    {
     "name": "stdout",
     "output_type": "stream",
     "text": [
      "20220910 203522\t-0.15805524059948\t1622\t305\t15\t5\t20648000\t40\n"
     ]
    },
    {
     "name": "stderr",
     "output_type": "stream",
     "text": [
      "[mbo] 24: cp=-0.158; minsplit=1622; minbucket=305; maxdepth=15 : y = 2.06e+07 : 60.9 secs : infill_ei\n",
      "\n"
     ]
    },
    {
     "name": "stdout",
     "output_type": "stream",
     "text": [
      "20220910 203616\t-0.477307231150339\t1624\t306\t11\t5\t20628000\t41\n"
     ]
    },
    {
     "name": "stderr",
     "output_type": "stream",
     "text": [
      "[mbo] 25: cp=-0.477; minsplit=1624; minbucket=306; maxdepth=11 : y = 2.06e+07 : 51.7 secs : infill_ei\n",
      "\n"
     ]
    },
    {
     "name": "stdout",
     "output_type": "stream",
     "text": [
      "20220910 203717\t-0.528322642679458\t1634\t305\t15\t5\t20648000\t42\n"
     ]
    },
    {
     "name": "stderr",
     "output_type": "stream",
     "text": [
      "[mbo] 26: cp=-0.528; minsplit=1634; minbucket=305; maxdepth=15 : y = 2.06e+07 : 59.3 secs : infill_ei\n",
      "\n"
     ]
    },
    {
     "name": "stdout",
     "output_type": "stream",
     "text": [
      "20220910 203824\t-0.549093542288845\t1648\t308\t18\t5\t20486000\t43\n"
     ]
    },
    {
     "name": "stderr",
     "output_type": "stream",
     "text": [
      "[mbo] 27: cp=-0.549; minsplit=1648; minbucket=308; maxdepth=18 : y = 2.05e+07 : 65.4 secs : infill_ei\n",
      "\n"
     ]
    },
    {
     "name": "stdout",
     "output_type": "stream",
     "text": [
      "20220910 203921\t-0.144440974200293\t1402\t277\t13\t5\t20146000\t44\n"
     ]
    },
    {
     "name": "stderr",
     "output_type": "stream",
     "text": [
      "[mbo] 28: cp=-0.144; minsplit=1402; minbucket=277; maxdepth=13 : y = 2.01e+07 : 55.5 secs : infill_ei\n",
      "\n",
      "Saved the current state after iteration 29 in the file HT321.RDATA.\n",
      "\n"
     ]
    },
    {
     "name": "stdout",
     "output_type": "stream",
     "text": [
      "20220910 204018\t-0.313727434511353\t1613\t305\t13\t5\t20648000\t45\n"
     ]
    },
    {
     "name": "stderr",
     "output_type": "stream",
     "text": [
      "[mbo] 29: cp=-0.314; minsplit=1613; minbucket=305; maxdepth=13 : y = 2.06e+07 : 55.2 secs : infill_ei\n",
      "\n"
     ]
    },
    {
     "name": "stdout",
     "output_type": "stream",
     "text": [
      "20220910 204117\t-0.678755234951259\t1615\t305\t13\t5\t20648000\t46\n"
     ]
    },
    {
     "name": "stderr",
     "output_type": "stream",
     "text": [
      "[mbo] 30: cp=-0.679; minsplit=1615; minbucket=305; maxdepth=13 : y = 2.06e+07 : 57.8 secs : infill_ei\n",
      "\n"
     ]
    },
    {
     "name": "stdout",
     "output_type": "stream",
     "text": [
      "20220910 204214\t-0.122334411833039\t1759\t268\t13\t5\t20418000\t47\n"
     ]
    },
    {
     "name": "stderr",
     "output_type": "stream",
     "text": [
      "[mbo] 31: cp=-0.122; minsplit=1759; minbucket=268; maxdepth=13 : y = 2.04e+07 : 55.4 secs : infill_ei\n",
      "\n"
     ]
    },
    {
     "name": "stdout",
     "output_type": "stream",
     "text": [
      "20220910 204239\t0.00292149823679344\t1313\t316\t14\t5\t0\t48\n"
     ]
    },
    {
     "name": "stderr",
     "output_type": "stream",
     "text": [
      "[mbo] 32: cp=0.00292; minsplit=1313; minbucket=316; maxdepth=14 : y = 0 : 24.0 secs : infill_ei\n",
      "\n"
     ]
    },
    {
     "name": "stdout",
     "output_type": "stream",
     "text": [
      "20220910 204311\t-0.10228561643343\t2669\t13\t3\t5\t15758000\t49\n"
     ]
    },
    {
     "name": "stderr",
     "output_type": "stream",
     "text": [
      "[mbo] 33: cp=-0.102; minsplit=2669; minbucket=13; maxdepth=3 : y = 1.58e+07 : 30.5 secs : infill_ei\n",
      "\n"
     ]
    },
    {
     "name": "stdout",
     "output_type": "stream",
     "text": [
      "20220910 204403\t-0.165501737630498\t2065\t226\t9\t5\t19868000\t50\n"
     ]
    },
    {
     "name": "stderr",
     "output_type": "stream",
     "text": [
      "[mbo] 34: cp=-0.166; minsplit=2065; minbucket=226; maxdepth=9 : y = 1.99e+07 : 50.5 secs : infill_ei\n",
      "\n"
     ]
    },
    {
     "name": "stdout",
     "output_type": "stream",
     "text": [
      "20220910 204506\t-0.620652841486564\t1806\t415\t15\t5\t19104000\t51\n"
     ]
    },
    {
     "name": "stderr",
     "output_type": "stream",
     "text": [
      "[mbo] 35: cp=-0.621; minsplit=1806; minbucket=415; maxdepth=15 : y = 1.91e+07 : 61.5 secs : infill_ei\n",
      "\n"
     ]
    },
    {
     "name": "stdout",
     "output_type": "stream",
     "text": [
      "20220910 204613\t-0.151660887919995\t2244\t277\t18\t5\t19922000\t52\n"
     ]
    },
    {
     "name": "stderr",
     "output_type": "stream",
     "text": [
      "[mbo] 36: cp=-0.152; minsplit=2244; minbucket=277; maxdepth=18 : y = 1.99e+07 : 65.4 secs : infill_ei\n",
      "\n"
     ]
    },
    {
     "name": "stdout",
     "output_type": "stream",
     "text": [
      "20220910 204722\t-0.489123170317549\t1755\t169\t17\t5\t19592000\t53\n"
     ]
    },
    {
     "name": "stderr",
     "output_type": "stream",
     "text": [
      "[mbo] 37: cp=-0.489; minsplit=1755; minbucket=169; maxdepth=17 : y = 1.96e+07 : 67.4 secs : infill_ei\n",
      "\n"
     ]
    },
    {
     "name": "stdout",
     "output_type": "stream",
     "text": [
      "20220910 204825\t-0.235463620334651\t1661\t284\t15\t5\t20536000\t54\n"
     ]
    },
    {
     "name": "stderr",
     "output_type": "stream",
     "text": [
      "[mbo] 38: cp=-0.235; minsplit=1661; minbucket=284; maxdepth=15 : y = 2.05e+07 : 60.9 secs : infill_ei\n",
      "\n"
     ]
    },
    {
     "name": "stdout",
     "output_type": "stream",
     "text": [
      "20220910 204859\t-0.187672270536036\t1722\t305\t3\t5\t15758000\t55\n"
     ]
    },
    {
     "name": "stderr",
     "output_type": "stream",
     "text": [
      "[mbo] 39: cp=-0.188; minsplit=1722; minbucket=305; maxdepth=3 : y = 1.58e+07 : 32.2 secs : infill_ei\n",
      "\n"
     ]
    },
    {
     "name": "stdout",
     "output_type": "stream",
     "text": [
      "20220910 205003\t-0.153091414832872\t1983\t224\t13\t5\t19946000\t56\n"
     ]
    },
    {
     "name": "stderr",
     "output_type": "stream",
     "text": [
      "[mbo] 40: cp=-0.153; minsplit=1983; minbucket=224; maxdepth=13 : y = 1.99e+07 : 62.8 secs : infill_ei\n",
      "\n",
      "Saved the current state after iteration 41 in the file HT321.RDATA.\n",
      "\n"
     ]
    },
    {
     "name": "stdout",
     "output_type": "stream",
     "text": [
      "20220910 205109\t-0.366911735547792\t1636\t337\t15\t5\t20084000\t57\n"
     ]
    },
    {
     "name": "stderr",
     "output_type": "stream",
     "text": [
      "[mbo] 41: cp=-0.367; minsplit=1636; minbucket=337; maxdepth=15 : y = 2.01e+07 : 63.5 secs : infill_ei\n",
      "\n"
     ]
    },
    {
     "name": "stdout",
     "output_type": "stream",
     "text": [
      "20220910 205204\t-0.562144848644927\t1643\t233\t10\t5\t20478000\t58\n"
     ]
    },
    {
     "name": "stderr",
     "output_type": "stream",
     "text": [
      "[mbo] 42: cp=-0.562; minsplit=1643; minbucket=233; maxdepth=10 : y = 2.05e+07 : 53.9 secs : infill_ei\n",
      "\n"
     ]
    },
    {
     "name": "stdout",
     "output_type": "stream",
     "text": [
      "20220910 205256\t-0.130975284768784\t2271\t373\t10\t5\t19414000\t59\n"
     ]
    },
    {
     "name": "stderr",
     "output_type": "stream",
     "text": [
      "[mbo] 43: cp=-0.131; minsplit=2271; minbucket=373; maxdepth=10 : y = 1.94e+07 : 49.9 secs : infill_ei\n",
      "\n"
     ]
    },
    {
     "name": "stdout",
     "output_type": "stream",
     "text": [
      "20220910 205355\t-0.421662079477166\t1647\t250\t13\t5\t20478000\t60\n"
     ]
    },
    {
     "name": "stderr",
     "output_type": "stream",
     "text": [
      "[mbo] 44: cp=-0.422; minsplit=1647; minbucket=250; maxdepth=13 : y = 2.05e+07 : 56.8 secs : infill_ei\n",
      "\n"
     ]
    },
    {
     "name": "stdout",
     "output_type": "stream",
     "text": [
      "20220910 205453\t-0.593126134163978\t2245\t286\t13\t5\t19906000\t61\n"
     ]
    },
    {
     "name": "stderr",
     "output_type": "stream",
     "text": [
      "[mbo] 45: cp=-0.593; minsplit=2245; minbucket=286; maxdepth=13 : y = 1.99e+07 : 56.4 secs : infill_ei\n",
      "\n"
     ]
    },
    {
     "name": "stdout",
     "output_type": "stream",
     "text": [
      "20220910 205559\t-0.292384069145766\t1805\t273\t17\t5\t20214000\t62\n"
     ]
    },
    {
     "name": "stderr",
     "output_type": "stream",
     "text": [
      "[mbo] 46: cp=-0.292; minsplit=1805; minbucket=273; maxdepth=17 : y = 2.02e+07 : 64.3 secs : infill_ei\n",
      "\n"
     ]
    },
    {
     "name": "stdout",
     "output_type": "stream",
     "text": [
      "20220910 205706\t-0.968235990912945\t949\t287\t20\t5\t19412000\t63\n"
     ]
    },
    {
     "name": "stderr",
     "output_type": "stream",
     "text": [
      "[mbo] 47: cp=-0.968; minsplit=949; minbucket=287; maxdepth=20 : y = 1.94e+07 : 65.2 secs : infill_ei\n",
      "\n",
      "Warning message in generateDesign(control$infill.opt.focussearch.points, ps.local, :\n",
      "\"generateDesign could only produce 999 points instead of 1000!\"\n"
     ]
    },
    {
     "name": "stdout",
     "output_type": "stream",
     "text": [
      "20220910 205807\t-0.304422912657511\t551\t275\t14\t5\t18704000\t64\n"
     ]
    },
    {
     "name": "stderr",
     "output_type": "stream",
     "text": [
      "[mbo] 48: cp=-0.304; minsplit=551; minbucket=275; maxdepth=14 : y = 1.87e+07 : 58.8 secs : infill_ei\n",
      "\n"
     ]
    },
    {
     "name": "stdout",
     "output_type": "stream",
     "text": [
      "20220910 205907\t-0.728274043013614\t1710\t489\t19\t5\t18922000\t65\n"
     ]
    },
    {
     "name": "stderr",
     "output_type": "stream",
     "text": [
      "[mbo] 49: cp=-0.728; minsplit=1710; minbucket=489; maxdepth=19 : y = 1.89e+07 : 58.7 secs : infill_ei\n",
      "\n"
     ]
    },
    {
     "name": "stdout",
     "output_type": "stream",
     "text": [
      "20220910 205949\t-0.715669238351086\t1661\t316\t7\t5\t20198000\t66\n"
     ]
    },
    {
     "name": "stderr",
     "output_type": "stream",
     "text": [
      "[mbo] 50: cp=-0.716; minsplit=1661; minbucket=316; maxdepth=7 : y = 2.02e+07 : 39.9 secs : infill_ei\n",
      "\n"
     ]
    },
    {
     "name": "stdout",
     "output_type": "stream",
     "text": [
      "20220910 210041\t-0.509225588145293\t1808\t259\t11\t5\t20298000\t67\n"
     ]
    },
    {
     "name": "stderr",
     "output_type": "stream",
     "text": [
      "[mbo] 51: cp=-0.509; minsplit=1808; minbucket=259; maxdepth=11 : y = 2.03e+07 : 51.2 secs : infill_ei\n",
      "\n",
      "Saved the current state after iteration 52 in the file HT321.RDATA.\n",
      "\n"
     ]
    },
    {
     "name": "stdout",
     "output_type": "stream",
     "text": [
      "20220910 210145\t-0.201257387304364\t1573\t330\t20\t5\t19774000\t68\n"
     ]
    },
    {
     "name": "stderr",
     "output_type": "stream",
     "text": [
      "[mbo] 52: cp=-0.201; minsplit=1573; minbucket=330; maxdepth=20 : y = 1.98e+07 : 61.7 secs : infill_ei\n",
      "\n"
     ]
    },
    {
     "name": "stdout",
     "output_type": "stream",
     "text": [
      "20220910 210239\t-0.640486409661336\t1636\t141\t11\t5\t19400000\t69\n"
     ]
    },
    {
     "name": "stderr",
     "output_type": "stream",
     "text": [
      "[mbo] 53: cp=-0.64; minsplit=1636; minbucket=141; maxdepth=11 : y = 1.94e+07 : 53.1 secs : infill_ei\n",
      "\n"
     ]
    },
    {
     "name": "stdout",
     "output_type": "stream",
     "text": [
      "20220910 210344\t-0.462401655418128\t1315\t282\t15\t5\t20180000\t70\n"
     ]
    },
    {
     "name": "stderr",
     "output_type": "stream",
     "text": [
      "[mbo] 54: cp=-0.462; minsplit=1315; minbucket=282; maxdepth=15 : y = 2.02e+07 : 63.0 secs : infill_ei\n",
      "\n"
     ]
    },
    {
     "name": "stdout",
     "output_type": "stream",
     "text": [
      "20220910 210421\t-0.537776762874969\t1472\t317\t5\t5\t19432000\t71\n"
     ]
    },
    {
     "name": "stderr",
     "output_type": "stream",
     "text": [
      "[mbo] 55: cp=-0.538; minsplit=1472; minbucket=317; maxdepth=5 : y = 1.94e+07 : 35.1 secs : infill_ei\n",
      "\n"
     ]
    },
    {
     "name": "stdout",
     "output_type": "stream",
     "text": [
      "20220910 210519\t-0.336689591603524\t1612\t167\t11\t5\t19388000\t72\n"
     ]
    },
    {
     "name": "stderr",
     "output_type": "stream",
     "text": [
      "[mbo] 56: cp=-0.337; minsplit=1612; minbucket=167; maxdepth=11 : y = 1.94e+07 : 55.5 secs : infill_ei\n",
      "\n"
     ]
    },
    {
     "name": "stdout",
     "output_type": "stream",
     "text": [
      "20220910 210626\t-0.907869536035398\t1673\t398\t20\t5\t19410000\t73\n"
     ]
    },
    {
     "name": "stderr",
     "output_type": "stream",
     "text": [
      "[mbo] 57: cp=-0.908; minsplit=1673; minbucket=398; maxdepth=20 : y = 1.94e+07 : 64.9 secs : infill_ei\n",
      "\n"
     ]
    },
    {
     "name": "stdout",
     "output_type": "stream",
     "text": [
      "20220910 210725\t-0.564026378208479\t1523\t304\t13\t5\t20518000\t74\n"
     ]
    },
    {
     "name": "stderr",
     "output_type": "stream",
     "text": [
      "[mbo] 58: cp=-0.564; minsplit=1523; minbucket=304; maxdepth=13 : y = 2.05e+07 : 58.1 secs : infill_ei\n",
      "\n"
     ]
    },
    {
     "name": "stdout",
     "output_type": "stream",
     "text": [
      "20220910 210832\t-0.267510777405139\t1513\t519\t16\t5\t18684000\t75\n"
     ]
    },
    {
     "name": "stderr",
     "output_type": "stream",
     "text": [
      "[mbo] 59: cp=-0.268; minsplit=1513; minbucket=519; maxdepth=16 : y = 1.87e+07 : 65.2 secs : infill_ei\n",
      "\n"
     ]
    },
    {
     "name": "stdout",
     "output_type": "stream",
     "text": [
      "20220910 210932\t-0.405426539689459\t2690\t294\t11\t5\t18436000\t76\n"
     ]
    },
    {
     "name": "stderr",
     "output_type": "stream",
     "text": [
      "[mbo] 60: cp=-0.405; minsplit=2690; minbucket=294; maxdepth=11 : y = 1.84e+07 : 57.6 secs : infill_ei\n",
      "\n"
     ]
    },
    {
     "name": "stdout",
     "output_type": "stream",
     "text": [
      "20220910 211023\t-0.416300634603689\t1299\t313\t10\t5\t20582000\t77\n"
     ]
    },
    {
     "name": "stderr",
     "output_type": "stream",
     "text": [
      "[mbo] 61: cp=-0.416; minsplit=1299; minbucket=313; maxdepth=10 : y = 2.06e+07 : 50.0 secs : infill_ei\n",
      "\n"
     ]
    },
    {
     "name": "stdout",
     "output_type": "stream",
     "text": [
      "20220910 211112\t-0.907723279035439\t1492\t204\t9\t5\t20174000\t78\n"
     ]
    },
    {
     "name": "stderr",
     "output_type": "stream",
     "text": [
      "[mbo] 62: cp=-0.908; minsplit=1492; minbucket=204; maxdepth=9 : y = 2.02e+07 : 46.6 secs : infill_ei\n",
      "\n",
      "Saved the current state after iteration 63 in the file HT321.RDATA.\n",
      "\n"
     ]
    },
    {
     "name": "stdout",
     "output_type": "stream",
     "text": [
      "20220910 211205\t-0.829681216500916\t1027\t311\t10\t5\t20366000\t79\n"
     ]
    },
    {
     "name": "stderr",
     "output_type": "stream",
     "text": [
      "[mbo] 63: cp=-0.83; minsplit=1027; minbucket=311; maxdepth=10 : y = 2.04e+07 : 51.8 secs : infill_ei\n",
      "\n"
     ]
    },
    {
     "name": "stdout",
     "output_type": "stream",
     "text": [
      "20220910 211309\t-0.857595910795997\t659\t189\t14\t5\t18188000\t80\n"
     ]
    },
    {
     "name": "stderr",
     "output_type": "stream",
     "text": [
      "[mbo] 64: cp=-0.858; minsplit=659; minbucket=189; maxdepth=14 : y = 1.82e+07 : 61.1 secs : infill_ei\n",
      "\n"
     ]
    },
    {
     "name": "stdout",
     "output_type": "stream",
     "text": [
      "20220910 211343\t-0.875898077254346\t1564\t321\t4\t5\t17416000\t81\n"
     ]
    },
    {
     "name": "stderr",
     "output_type": "stream",
     "text": [
      "[mbo] 65: cp=-0.876; minsplit=1564; minbucket=321; maxdepth=4 : y = 1.74e+07 : 32.1 secs : infill_ei\n",
      "\n"
     ]
    },
    {
     "name": "stdout",
     "output_type": "stream",
     "text": [
      "20220910 211436\t-0.804566268331093\t1643\t301\t11\t5\t20644000\t82\n"
     ]
    },
    {
     "name": "stderr",
     "output_type": "stream",
     "text": [
      "[mbo] 66: cp=-0.805; minsplit=1643; minbucket=301; maxdepth=11 : y = 2.06e+07 : 51.1 secs : infill_ei\n",
      "\n"
     ]
    },
    {
     "name": "stdout",
     "output_type": "stream",
     "text": [
      "20220910 211528\t-0.990812739645523\t1515\t233\t10\t5\t20132000\t83\n"
     ]
    },
    {
     "name": "stderr",
     "output_type": "stream",
     "text": [
      "[mbo] 67: cp=-0.991; minsplit=1515; minbucket=233; maxdepth=10 : y = 2.01e+07 : 50.4 secs : infill_ei\n",
      "\n"
     ]
    },
    {
     "name": "stdout",
     "output_type": "stream",
     "text": [
      "20220910 211622\t-0.782010541189626\t1145\t344\t11\t5\t19678000\t84\n"
     ]
    },
    {
     "name": "stderr",
     "output_type": "stream",
     "text": [
      "[mbo] 68: cp=-0.782; minsplit=1145; minbucket=344; maxdepth=11 : y = 1.97e+07 : 52.2 secs : infill_ei\n",
      "\n"
     ]
    },
    {
     "name": "stdout",
     "output_type": "stream",
     "text": [
      "20220910 211713\t-0.828114175436262\t1669\t232\t10\t5\t20478000\t85\n"
     ]
    },
    {
     "name": "stderr",
     "output_type": "stream",
     "text": [
      "[mbo] 69: cp=-0.828; minsplit=1669; minbucket=232; maxdepth=10 : y = 2.05e+07 : 48.9 secs : infill_ei\n",
      "\n"
     ]
    },
    {
     "name": "stdout",
     "output_type": "stream",
     "text": [
      "20220910 211809\t-0.935023491587653\t1630\t248\t12\t5\t20478000\t86\n"
     ]
    },
    {
     "name": "stderr",
     "output_type": "stream",
     "text": [
      "[mbo] 70: cp=-0.935; minsplit=1630; minbucket=248; maxdepth=12 : y = 2.05e+07 : 54.0 secs : infill_ei\n",
      "\n"
     ]
    },
    {
     "name": "stdout",
     "output_type": "stream",
     "text": [
      "20220910 211857\t-0.715892366796508\t3132\t317\t10\t5\t17654000\t87\n"
     ]
    },
    {
     "name": "stderr",
     "output_type": "stream",
     "text": [
      "[mbo] 71: cp=-0.716; minsplit=3132; minbucket=317; maxdepth=10 : y = 1.77e+07 : 47.2 secs : infill_ei\n",
      "\n"
     ]
    },
    {
     "name": "stdout",
     "output_type": "stream",
     "text": [
      "20220910 211950\t-0.44680191748034\t1504\t613\t10\t5\t18340000\t88\n"
     ]
    },
    {
     "name": "stderr",
     "output_type": "stream",
     "text": [
      "[mbo] 72: cp=-0.447; minsplit=1504; minbucket=613; maxdepth=10 : y = 1.83e+07 : 50.6 secs : infill_ei\n",
      "\n"
     ]
    },
    {
     "name": "stdout",
     "output_type": "stream",
     "text": [
      "20220910 212057\t-0.825229414969803\t1594\t306\t16\t5\t20628000\t89\n"
     ]
    },
    {
     "name": "stderr",
     "output_type": "stream",
     "text": [
      "[mbo] 73: cp=-0.825; minsplit=1594; minbucket=306; maxdepth=16 : y = 2.06e+07 : 64.8 secs : infill_ei\n",
      "\n"
     ]
    },
    {
     "name": "stdout",
     "output_type": "stream",
     "text": [
      "20220910 212145\t-0.23935549062668\t6151\t3074\t20\t5\t17104000\t90\n"
     ]
    },
    {
     "name": "stderr",
     "output_type": "stream",
     "text": [
      "[mbo] 74: cp=-0.239; minsplit=6151; minbucket=3074; maxdepth=20 : y = 1.71e+07 : 46.1 secs : infill_ei\n",
      "\n",
      "Saved the current state after iteration 75 in the file HT321.RDATA.\n",
      "\n"
     ]
    },
    {
     "name": "stdout",
     "output_type": "stream",
     "text": [
      "20220910 212242\t-0.631444569276081\t1672\t295\t12\t5\t20630000\t91\n"
     ]
    },
    {
     "name": "stderr",
     "output_type": "stream",
     "text": [
      "[mbo] 75: cp=-0.631; minsplit=1672; minbucket=295; maxdepth=12 : y = 2.06e+07 : 54.6 secs : infill_ei\n",
      "\n"
     ]
    },
    {
     "name": "stdout",
     "output_type": "stream",
     "text": [
      "20220910 212342\t-0.833671727136015\t1803\t881\t20\t5\t18406000\t92\n"
     ]
    },
    {
     "name": "stderr",
     "output_type": "stream",
     "text": [
      "[mbo] 76: cp=-0.834; minsplit=1803; minbucket=881; maxdepth=20 : y = 1.84e+07 : 57.8 secs : infill_ei\n",
      "\n"
     ]
    },
    {
     "name": "stdout",
     "output_type": "stream",
     "text": [
      "20220910 212428\t-0.517577868230239\t7993\t3996\t20\t5\t16286000\t93\n"
     ]
    },
    {
     "name": "stderr",
     "output_type": "stream",
     "text": [
      "[mbo] 77: cp=-0.518; minsplit=7993; minbucket=3996; maxdepth=20 : y = 1.63e+07 : 43.8 secs : infill_ei\n",
      "\n"
     ]
    },
    {
     "name": "stdout",
     "output_type": "stream",
     "text": [
      "20220910 212519\t-0.128389197005815\t2193\t268\t10\t5\t19932000\t94\n"
     ]
    },
    {
     "name": "stderr",
     "output_type": "stream",
     "text": [
      "[mbo] 78: cp=-0.128; minsplit=2193; minbucket=268; maxdepth=10 : y = 1.99e+07 : 48.7 secs : infill_ei\n",
      "\n"
     ]
    },
    {
     "name": "stdout",
     "output_type": "stream",
     "text": [
      "20220910 212613\t-0.716747668490571\t1654\t307\t11\t5\t20490000\t95\n"
     ]
    },
    {
     "name": "stderr",
     "output_type": "stream",
     "text": [
      "[mbo] 79: cp=-0.717; minsplit=1654; minbucket=307; maxdepth=11 : y = 2.05e+07 : 52.3 secs : infill_ei\n",
      "\n"
     ]
    },
    {
     "name": "stdout",
     "output_type": "stream",
     "text": [
      "20220910 212704\t-0.442372017687383\t1581\t288\t9\t5\t20574000\t96\n"
     ]
    },
    {
     "name": "stderr",
     "output_type": "stream",
     "text": [
      "[mbo] 80: cp=-0.442; minsplit=1581; minbucket=288; maxdepth=9 : y = 2.06e+07 : 49.0 secs : infill_ei\n",
      "\n"
     ]
    },
    {
     "name": "stdout",
     "output_type": "stream",
     "text": [
      "20220910 212759\t-0.658920859411344\t1646\t306\t8\t5\t20490000\t97\n"
     ]
    },
    {
     "name": "stderr",
     "output_type": "stream",
     "text": [
      "[mbo] 81: cp=-0.659; minsplit=1646; minbucket=306; maxdepth=8 : y = 2.05e+07 : 52.6 secs : infill_ei\n",
      "\n"
     ]
    },
    {
     "name": "stdout",
     "output_type": "stream",
     "text": [
      "20220910 212904\t-0.597611167277935\t1633\t249\t16\t5\t20478000\t98\n"
     ]
    },
    {
     "name": "stderr",
     "output_type": "stream",
     "text": [
      "[mbo] 82: cp=-0.598; minsplit=1633; minbucket=249; maxdepth=16 : y = 2.05e+07 : 63.3 secs : infill_ei\n",
      "\n"
     ]
    },
    {
     "name": "stdout",
     "output_type": "stream",
     "text": [
      "20220910 213003\t-0.945617483284092\t1149\t209\t11\t5\t19878000\t99\n"
     ]
    },
    {
     "name": "stderr",
     "output_type": "stream",
     "text": [
      "[mbo] 83: cp=-0.946; minsplit=1149; minbucket=209; maxdepth=11 : y = 1.99e+07 : 57.4 secs : infill_ei\n",
      "\n"
     ]
    },
    {
     "name": "stdout",
     "output_type": "stream",
     "text": [
      "20220910 213040\t-0.0762562580583685\t7997\t3995\t5\t5\t16286000\t100\n"
     ]
    },
    {
     "name": "stderr",
     "output_type": "stream",
     "text": [
      "[mbo] 84: cp=-0.0763; minsplit=7997; minbucket=3995; maxdepth=5 : y = 1.63e+07 : 34.9 secs : infill_ei\n",
      "\n"
     ]
    },
    {
     "name": "stdout",
     "output_type": "stream",
     "text": [
      "20220910 213157\t-0.137170495290238\t1683\t264\t18\t5\t20694000\t101\n"
     ]
    },
    {
     "name": "stderr",
     "output_type": "stream",
     "text": [
      "[mbo] 85: cp=-0.137; minsplit=1683; minbucket=264; maxdepth=18 : y = 2.07e+07 : 74.2 secs : infill_ei\n",
      "\n",
      "Saved the current state after iteration 86 in the file HT321.RDATA.\n",
      "\n"
     ]
    },
    {
     "name": "stdout",
     "output_type": "stream",
     "text": [
      "20220910 213236\t-0.071985327624051\t7990\t2078\t5\t5\t16228000\t102\n"
     ]
    },
    {
     "name": "stderr",
     "output_type": "stream",
     "text": [
      "[mbo] 86: cp=-0.072; minsplit=7990; minbucket=2078; maxdepth=5 : y = 1.62e+07 : 37.3 secs : infill_ei\n",
      "\n"
     ]
    },
    {
     "name": "stdout",
     "output_type": "stream",
     "text": [
      "20220910 213348\t-0.164846335180786\t1700\t281\t17\t5\t20622000\t103\n"
     ]
    },
    {
     "name": "stderr",
     "output_type": "stream",
     "text": [
      "[mbo] 87: cp=-0.165; minsplit=1700; minbucket=281; maxdepth=17 : y = 2.06e+07 : 69.5 secs : infill_ei\n",
      "\n"
     ]
    },
    {
     "name": "stdout",
     "output_type": "stream",
     "text": [
      "20220910 213449\t-0.12509940950249\t7992\t290\t18\t5\t16062000\t104\n"
     ]
    },
    {
     "name": "stderr",
     "output_type": "stream",
     "text": [
      "[mbo] 88: cp=-0.125; minsplit=7992; minbucket=290; maxdepth=18 : y = 1.61e+07 : 58.8 secs : infill_ei\n",
      "\n"
     ]
    },
    {
     "name": "stdout",
     "output_type": "stream",
     "text": [
      "20220910 213554\t-0.138559722451591\t1773\t479\t19\t5\t18810000\t105\n"
     ]
    },
    {
     "name": "stderr",
     "output_type": "stream",
     "text": [
      "[mbo] 89: cp=-0.139; minsplit=1773; minbucket=479; maxdepth=19 : y = 1.88e+07 : 63.0 secs : infill_ei\n",
      "\n"
     ]
    },
    {
     "name": "stdout",
     "output_type": "stream",
     "text": [
      "20220910 213656\t-0.53009582416906\t5380\t2680\t20\t5\t16988000\t106\n"
     ]
    },
    {
     "name": "stderr",
     "output_type": "stream",
     "text": [
      "[mbo] 90: cp=-0.53; minsplit=5380; minbucket=2680; maxdepth=20 : y = 1.7e+07 : 57.9 secs : infill_ei\n",
      "\n"
     ]
    },
    {
     "name": "stdout",
     "output_type": "stream",
     "text": [
      "20220910 213756\t-0.813409279745322\t4532\t1113\t19\t5\t17016000\t107\n"
     ]
    },
    {
     "name": "stderr",
     "output_type": "stream",
     "text": [
      "[mbo] 91: cp=-0.813; minsplit=4532; minbucket=1113; maxdepth=19 : y = 1.7e+07 : 58.7 secs : infill_ei\n",
      "\n"
     ]
    },
    {
     "name": "stdout",
     "output_type": "stream",
     "text": [
      "20220910 213856\t-0.827579249863542\t1559\t311\t12\t5\t20496000\t108\n"
     ]
    },
    {
     "name": "stderr",
     "output_type": "stream",
     "text": [
      "[mbo] 92: cp=-0.828; minsplit=1559; minbucket=311; maxdepth=12 : y = 2.05e+07 : 58.2 secs : infill_ei\n",
      "\n"
     ]
    },
    {
     "name": "stdout",
     "output_type": "stream",
     "text": [
      "20220910 213951\t-0.99969212323685\t1263\t598\t11\t5\t18378000\t109\n"
     ]
    },
    {
     "name": "stderr",
     "output_type": "stream",
     "text": [
      "[mbo] 93: cp=-1; minsplit=1263; minbucket=598; maxdepth=11 : y = 1.84e+07 : 52.5 secs : infill_ei\n",
      "\n"
     ]
    },
    {
     "name": "stdout",
     "output_type": "stream",
     "text": [
      "20220910 214056\t-0.282856607390067\t1425\t264\t15\t5\t20092000\t110\n"
     ]
    },
    {
     "name": "stderr",
     "output_type": "stream",
     "text": [
      "[mbo] 94: cp=-0.283; minsplit=1425; minbucket=264; maxdepth=15 : y = 2.01e+07 : 63.3 secs : infill_ei\n",
      "\n"
     ]
    },
    {
     "name": "stdout",
     "output_type": "stream",
     "text": [
      "20220910 214145\t-0.323183650675836\t7988\t3991\t9\t5\t16286000\t111\n"
     ]
    },
    {
     "name": "stderr",
     "output_type": "stream",
     "text": [
      "[mbo] 95: cp=-0.323; minsplit=7988; minbucket=3991; maxdepth=9 : y = 1.63e+07 : 45.7 secs : infill_ei\n",
      "\n"
     ]
    },
    {
     "name": "stdout",
     "output_type": "stream",
     "text": [
      "20220910 214301\t-0.81262814898387\t1587\t263\t13\t5\t20572000\t112\n"
     ]
    },
    {
     "name": "stderr",
     "output_type": "stream",
     "text": [
      "[mbo] 96: cp=-0.813; minsplit=1587; minbucket=263; maxdepth=13 : y = 2.06e+07 : 74.2 secs : infill_ei\n",
      "\n",
      "Saved the current state after iteration 97 in the file HT321.RDATA.\n",
      "\n"
     ]
    },
    {
     "name": "stdout",
     "output_type": "stream",
     "text": [
      "20220910 214337\t-0.0292364042337926\t7978\t264\t3\t5\t15758000\t113\n"
     ]
    },
    {
     "name": "stderr",
     "output_type": "stream",
     "text": [
      "[mbo] 97: cp=-0.0292; minsplit=7978; minbucket=264; maxdepth=3 : y = 1.58e+07 : 33.9 secs : infill_ei\n",
      "\n"
     ]
    },
    {
     "name": "stdout",
     "output_type": "stream",
     "text": [
      "20220910 214431\t-0.946372455905853\t1928\t207\t9\t5\t19882000\t114\n"
     ]
    },
    {
     "name": "stderr",
     "output_type": "stream",
     "text": [
      "[mbo] 98: cp=-0.946; minsplit=1928; minbucket=207; maxdepth=9 : y = 1.99e+07 : 51.7 secs : infill_ei\n",
      "\n"
     ]
    },
    {
     "name": "stdout",
     "output_type": "stream",
     "text": [
      "20220910 214533\t-0.546261507096332\t4355\t235\t20\t5\t16878000\t115\n"
     ]
    },
    {
     "name": "stderr",
     "output_type": "stream",
     "text": [
      "[mbo] 99: cp=-0.546; minsplit=4355; minbucket=235; maxdepth=20 : y = 1.69e+07 : 60.2 secs : infill_ei\n",
      "\n"
     ]
    },
    {
     "name": "stdout",
     "output_type": "stream",
     "text": [
      "20220910 214637\t-0.91867234121504\t1663\t225\t19\t5\t20356000\t116\n"
     ]
    },
    {
     "name": "stderr",
     "output_type": "stream",
     "text": [
      "[mbo] 100: cp=-0.919; minsplit=1663; minbucket=225; maxdepth=19 : y = 2.04e+07 : 62.7 secs : infill_ei\n",
      "\n",
      "Saved the final state in the file HT321.RDATA\n",
      "\n"
     ]
    }
   ],
   "source": [
    "#Aqui comienza la configuracion de la Bayesian Optimization\n",
    "\n",
    "funcion_optimizar  <- EstimarGanancia\n",
    "\n",
    "configureMlr( show.learner.output= FALSE)\n",
    "\n",
    "#configuro la busqueda bayesiana,  los hiperparametros que se van a optimizar\n",
    "#por favor, no desesperarse por lo complejo\n",
    "obj.fun  <- makeSingleObjectiveFunction(\n",
    "              fn=       funcion_optimizar,\n",
    "              minimize= FALSE,   #estoy Maximizando la ganancia\n",
    "              noisy=    TRUE,\n",
    "              par.set=  hs,\n",
    "              has.simple.signature = FALSE\n",
    "             )\n",
    "\n",
    "ctrl  <- makeMBOControl( save.on.disk.at.time= 600,  save.file.path= archivo_BO)\n",
    "ctrl  <- setMBOControlTermination(ctrl, iters= kBO_iter )\n",
    "ctrl  <- setMBOControlInfill(ctrl, crit= makeMBOInfillCritEI())\n",
    "\n",
    "surr.km  <- makeLearner(\"regr.km\", predict.type= \"se\", covtype= \"matern3_2\", control= list(trace= TRUE))\n",
    "\n",
    "#inicio la optimizacion bayesiana\n",
    "if( !file.exists( archivo_BO ) ) {\n",
    "\n",
    "  run  <- mbo( fun=     obj.fun, \n",
    "               learner= surr.km,\n",
    "               control= ctrl)\n",
    "\n",
    "} else  run  <- mboContinue( archivo_BO )   #retomo en caso que ya exista\n",
    "\n"
   ]
  },
  {
   "cell_type": "code",
   "execution_count": null,
   "id": "86eb5d16-2696-42f9-81bb-dbeb23919e1c",
   "metadata": {},
   "outputs": [],
   "source": []
  }
 ],
 "metadata": {
  "kernelspec": {
   "display_name": "R",
   "language": "R",
   "name": "ir"
  },
  "language_info": {
   "codemirror_mode": "r",
   "file_extension": ".r",
   "mimetype": "text/x-r-source",
   "name": "R",
   "pygments_lexer": "r",
   "version": "4.2.1"
  }
 },
 "nbformat": 4,
 "nbformat_minor": 5
}
